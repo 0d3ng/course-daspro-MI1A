{
 "cells": [
  {
   "cell_type": "markdown",
   "metadata": {},
   "source": [
    "# JOBSHEET 10 - Array 1\n",
    "\n",
    "## Tujuan\n",
    "+ Mahasiswa mampu memahami pembuatan Array 1 dimensi dan pengaksesan elemenya di Java. \n",
    "+ Mahasiswa mampu membuat program dengan menggunakan konsep array satu dimensi.\n",
    "\n",
    "\n",
    "## Alat dan Bahan\n",
    "+ PC/laptop\n",
    "+ Browser(chrome, firefox, safari)\n",
    "+ Koneksi internet\n",
    "+ Anaconda3 + Java kernel (opsional)\n",
    "\n",
    "## Praktikum\n",
    "### Percobaan 1: Mengisi Elemen Array\n",
    "1. Pada percobaan ke-1 akan dilakukan percobaan untuk mengisi elemen array. Buat array bertipe integer dengan nama bil dengan kapasitas 4 elemen.\n",
    "![Gambar 0](images/P1L2.png)"
   ]
  },
  {
   "cell_type": "code",
   "execution_count": 1,
   "metadata": {},
   "outputs": [],
   "source": [
    "int[] bil=new int[4]"
   ]
  },
  {
   "cell_type": "markdown",
   "metadata": {},
   "source": [
    "2. Isi masing-masing elemen array bil tadi dengan angka 5, 12, 7, 20.\n",
    "![Gambar 0](images/P1L3.png)"
   ]
  },
  {
   "cell_type": "code",
   "execution_count": 2,
   "metadata": {},
   "outputs": [],
   "source": [
    "int array[] = {5, 12, 7, 20};"
   ]
  },
  {
   "cell_type": "markdown",
   "metadata": {},
   "source": [
    "3. Tampilkan ke layar semua isi elemennya:\n",
    "![Gambar 4](images/P1L4.png)"
   ]
  },
  {
   "cell_type": "code",
   "execution_count": 3,
   "metadata": {},
   "outputs": [
    {
     "name": "stdout",
     "output_type": "stream",
     "text": [
      "5\n",
      "12\n",
      "7\n",
      "20\n"
     ]
    }
   ],
   "source": [
    "for (int i : array){\n",
    "    System.out.println(i);\n",
    "}"
   ]
  },
  {
   "cell_type": "markdown",
   "metadata": {},
   "source": [
    "#### Pertanyaan \n",
    "1. Dari percobaan 1 berapakah indeks array terbesar dan terkecil?"
   ]
  },
  {
   "cell_type": "markdown",
   "metadata": {},
   "source": [
    "- Terbesar 20\n",
    "- Terkecil 5"
   ]
  },
  {
   "cell_type": "markdown",
   "metadata": {},
   "source": [
    "2. Jika Isi masing-masing elemen array bil diubah dengan angka 5.0, 12867, 7.5, 2000000. Apa yang terjadi? Mengapa bisa demikian?"
   ]
  },
  {
   "cell_type": "code",
   "execution_count": 8,
   "metadata": {
    "scrolled": true
   },
   "outputs": [
    {
     "ename": "CompilationException",
     "evalue": "",
     "output_type": "error",
     "traceback": [
      "\u001b[1m\u001b[30m|   \u001b[1m\u001b[30mint array[\u001b[0m\u001b[1m\u001b[30m\u001b[41m\u001b[0m\u001b[1m\u001b[30m4] = {5.0, 12867, 7.5, 2000000};\u001b[0m",
      "\u001b[1m\u001b[31m']' expected\u001b[0m",
      ""
     ]
    }
   ],
   "source": [
    "int array[4] = {5.0, 12867, 7.5, 2000000};\n",
    "\n",
    "for (int i : array){\n",
    "    System.out.println(i);\n",
    "}\n",
    "System.out.print(\"Tidak bisa muncul karena bilangan desimal\");"
   ]
  },
  {
   "cell_type": "markdown",
   "metadata": {},
   "source": [
    "Tidak bisa muncul karena bilangan desimal"
   ]
  },
  {
   "cell_type": "markdown",
   "metadata": {},
   "source": [
    "3. Ubah statement pada langkah No 3 menjadi seperti berikut\n",
    "![Gambar pertanyaan 3](images/P1T3.png)\n",
    "Apa keluaran dari program? Mengapa bisa demikian?"
   ]
  },
  {
   "cell_type": "code",
   "execution_count": 10,
   "metadata": {},
   "outputs": [
    {
     "name": "stdout",
     "output_type": "stream",
     "text": [
      "0\n",
      "0\n",
      "0\n",
      "0\n"
     ]
    }
   ],
   "source": [
    "int array[] = {5, 12, 7, 20};\n",
    "\n",
    "for(int i=0; i<4; i++){\n",
    "    System.out.println(bil[i]);\n",
    "}"
   ]
  },
  {
   "cell_type": "markdown",
   "metadata": {},
   "source": [
    "### Percobaan 2: Meminta Inputan Pengguna untuk Mengisi Elemen Array\n",
    "1. Pada percobaan ke-2 akan dilakukan percobaan yang meminta inputan pengguna untuk mengisi elemen array seperti pada flowchart berikut\n",
    "![Gambar Flowchart](images/FCpercobaan2.png)"
   ]
  },
  {
   "cell_type": "code",
   "execution_count": 2,
   "metadata": {},
   "outputs": [
    {
     "name": "stdout",
     "output_type": "stream",
     "text": [
      "===Input UAS===\n",
      "Masukkan nilai UAS ke-0 : 45\n",
      "Masukkan nilai UAS ke-1 : 65\n",
      "Masukkan nilai UAS ke-2 : 98\n",
      "Masukkan nilai UAS ke-3 : 55\n",
      "Masukkan nilai UAS ke-4 : 99\n",
      "Masukkan nilai UAS ke-5 : 89\n",
      "===Output UAS===\n",
      "Nilai UAS ke-0 adalah : 45\n",
      "Nilai UAS ke-1 adalah : 65\n",
      "Nilai UAS ke-2 adalah : 98\n",
      "Nilai UAS ke-3 adalah : 55\n",
      "Nilai UAS ke-4 adalah : 99\n",
      "Nilai UAS ke-5 adalah : 89\n"
     ]
    }
   ],
   "source": [
    "import java.util.Scanner;\n",
    "Scanner sc = new Scanner(System.in);\n",
    "\n",
    "System.out.println(\"===Input UAS===\");\n",
    "int[] nilaiUAS = new int[6];\n",
    "for(int i = 0; i < 6; i++){\n",
    "    System.out.print(\"Masukkan nilai UAS ke-\" + i +\" : \");\n",
    "    nilaiUAS[i] = sc.nextInt();\n",
    "}\n",
    "System.out.println(\"===Output UAS===\");\n",
    "for(int i = 0; i <6; i++){\n",
    "    System.out.println(\"Nilai UAS ke-\" + i + \" adalah : \" + nilaiUAS[i]);\n",
    "}"
   ]
  },
  {
   "cell_type": "markdown",
   "metadata": {},
   "source": [
    "2. Import dan deklarasikan Scanner untuk keperluan input. \n",
    "![Gambar import scanner](images/P2L2.png)"
   ]
  },
  {
   "cell_type": "code",
   "execution_count": 3,
   "metadata": {},
   "outputs": [],
   "source": [
    "import java.util.Scanner;\n",
    "Scanner sc = new Scanner(System.in);"
   ]
  },
  {
   "cell_type": "markdown",
   "metadata": {},
   "source": [
    "3. Buat array bertipe integer dengan nama nilaiUAS, dengan kapasitas 6 elemen.\n",
    "![Gambar deklarasi array](images/P2L3.png)"
   ]
  },
  {
   "cell_type": "code",
   "execution_count": 4,
   "metadata": {},
   "outputs": [
    {
     "name": "stdout",
     "output_type": "stream",
     "text": [
      "===Input UAS===\n"
     ]
    }
   ],
   "source": [
    "System.out.println(\"===Input UAS===\");\n",
    "int[] nilaiUAS = new int[6];"
   ]
  },
  {
   "cell_type": "markdown",
   "metadata": {},
   "source": [
    "4. Menggunakan perulangan, buat input untuk mengisi elemen dari array nilaiUAS.\n",
    "![Gambar perulangan input](images/P2L4.png)"
   ]
  },
  {
   "cell_type": "code",
   "execution_count": 5,
   "metadata": {
    "scrolled": true
   },
   "outputs": [
    {
     "name": "stdout",
     "output_type": "stream",
     "text": [
      "Masukkan nilai UAS ke-0 : 98\n",
      "Masukkan nilai UAS ke-1 : 56\n",
      "Masukkan nilai UAS ke-2 : 8\n",
      "Masukkan nilai UAS ke-3 : 66\n",
      "Masukkan nilai UAS ke-4 : 33\n",
      "Masukkan nilai UAS ke-5 : 100\n"
     ]
    }
   ],
   "source": [
    "for(int i = 0; i < 6; i++){\n",
    "    System.out.print(\"Masukkan nilai UAS ke-\" + i +\" : \");\n",
    "    nilaiUAS[i] = sc.nextInt();\n",
    "}"
   ]
  },
  {
   "cell_type": "markdown",
   "metadata": {},
   "source": [
    "5. Menggunakan perulangan, tampilkan semua isi elemen dari array nilaiUAS.\n",
    "![Gambar perulangan print](images/P2L5.png)"
   ]
  },
  {
   "cell_type": "code",
   "execution_count": 6,
   "metadata": {
    "scrolled": true
   },
   "outputs": [
    {
     "name": "stdout",
     "output_type": "stream",
     "text": [
      "===Output UAS===\n",
      "Nilai UAS ke-0 adalah : 98\n",
      "Nilai UAS ke-1 adalah : 56\n",
      "Nilai UAS ke-2 adalah : 8\n",
      "Nilai UAS ke-3 adalah : 66\n",
      "Nilai UAS ke-4 adalah : 33\n",
      "Nilai UAS ke-5 adalah : 100\n"
     ]
    }
   ],
   "source": [
    "System.out.println(\"===Output UAS===\");\n",
    "for(int i = 0; i <6; i++){\n",
    "    System.out.println(\"Nilai UAS ke-\" + i + \" adalah : \" + nilaiUAS[i]);\n",
    "}"
   ]
  },
  {
   "cell_type": "markdown",
   "metadata": {},
   "source": [
    "#### Pertanyaan\n",
    "1. Ubah statement pada langkah No 4 menjadi seperti berikut ini :\n",
    "![Gambar pertanyaan1](images/P2T1.png)\n",
    "Jalankan program, apakah terjadi perubahan? Mengapa demikian?\n"
   ]
  },
  {
   "cell_type": "code",
   "execution_count": 7,
   "metadata": {},
   "outputs": [
    {
     "name": "stdout",
     "output_type": "stream",
     "text": [
      "Masukkan nilai UAS ke-0: 45\n",
      "Masukkan nilai UAS ke-1: 6\n",
      "Masukkan nilai UAS ke-2: 99\n",
      "Masukkan nilai UAS ke-3: 88\n",
      "Masukkan nilai UAS ke-4: 22\n",
      "Masukkan nilai UAS ke-5: 54\n"
     ]
    }
   ],
   "source": [
    "for(int i = 0; i < nilaiUAS.length; i++) {\n",
    "    System.out.print(\"Masukkan nilai UAS ke-\" + i + \": \");\n",
    "    nilaiUAS[i] = sc.nextInt();\n",
    "}"
   ]
  },
  {
   "cell_type": "markdown",
   "metadata": {},
   "source": [
    "2. Apa kegunaan dari `nilaiUAS.length`? "
   ]
  },
  {
   "cell_type": "markdown",
   "metadata": {},
   "source": [
    "- length dipergunakan untung panjang Arry"
   ]
  },
  {
   "cell_type": "markdown",
   "metadata": {},
   "source": [
    "3. Ubah statement pada langkah No 5 menjadi seperti berikut ini sehingga program hanya menampilkan status mahasiswa yang lulus saja:\n",
    "![Gambar pertanyaan1](images/P2T3.png)\n",
    "Jalankan program dan Jelaskan alur program!"
   ]
  },
  {
   "cell_type": "code",
   "execution_count": 8,
   "metadata": {},
   "outputs": [
    {
     "name": "stdout",
     "output_type": "stream",
     "text": [
      "Mahasiswa ke-2 lulus\n",
      "Mahasiswa ke-3 lulus\n"
     ]
    }
   ],
   "source": [
    "for(int i = 0; i < nilaiUAS.length; i++){\n",
    "    if(nilaiUAS[i] > 70){\n",
    "        System.out.println(\"Mahasiswa ke-\" + i +\" lulus\");\n",
    "    }\n",
    "}"
   ]
  },
  {
   "cell_type": "markdown",
   "metadata": {},
   "source": [
    "### Percobaan 3: Melakukan Operasi Aritmatika terhadap Elemen Array\n",
    "Pada praktikum ini, akan dilakukan percobaan untuk menjumlahkan Array. Program akan menerima input sebanyak 10 nilai mahasiswa. Kemudian program akan menampilkan nilai rata-rata nilai dari 10 Mahasiswa. Seperti flowchart berikut\n",
    "![Gambar flowchart](images/FCpercobaan3.png)\n",
    "\n",
    "1.Import dan deklarasikan Scanner untuk keperluan input. \n",
    "![Gambar deklarasi scanner](images/P3L1.png)"
   ]
  },
  {
   "cell_type": "code",
   "execution_count": 9,
   "metadata": {},
   "outputs": [
    {
     "name": "stdout",
     "output_type": "stream",
     "text": [
      "Masukkan nilai Mahasiswa ke-1 : 45\n",
      "Masukkan nilai Mahasiswa ke-2 : 55\n",
      "Masukkan nilai Mahasiswa ke-3 : 89\n",
      "Masukkan nilai Mahasiswa ke-4 : 100\n",
      "Masukkan nilai Mahasiswa ke-5 : 75\n",
      "Masukkan nilai Mahasiswa ke-6 : 65\n",
      "Masukkan nilai Mahasiswa ke-7 : 12\n",
      "Masukkan nilai Mahasiswa ke-8 : 45\n",
      "Masukkan nilai Mahasiswa ke-9 : 32\n",
      "Masukkan nilai Mahasiswa ke-10 : 49\n",
      "Rata-rata nilai mahasiswa adalah : 56.7\n"
     ]
    }
   ],
   "source": [
    "import java.util.Scanner;\n",
    "Scanner sc = new Scanner(System.in);\n",
    "\n",
    "int nilaiMHS[] = new int[10];\n",
    "double total;\n",
    "double rata;\n",
    "for(int i = 0; i<nilaiMHS.length; i++){\n",
    "    System.out.print(\"Masukkan nilai Mahasiswa ke-\"+(i+1)+\" : \");\n",
    "    nilaiMHS[i] = sc.nextInt();\n",
    "}\n",
    "for(int i = 0; i<nilaiMHS.length; i++){\n",
    "    total+=nilaiMHS[i];\n",
    "}\n",
    "rata= total/nilaiMHS.length;\n",
    "System.out.println(\"Rata-rata nilai mahasiswa adalah : \"+rata);"
   ]
  },
  {
   "cell_type": "markdown",
   "metadata": {},
   "source": [
    "2. Buat array nilaiMHS bertipe integer dengan kapasitas 10. Kemudian deklarasikan variable total dan rata seperti gambar berikut ini\n",
    "![Gambar deklarasi variabel](images/P3L2.png)\n"
   ]
  },
  {
   "cell_type": "code",
   "execution_count": 10,
   "metadata": {},
   "outputs": [],
   "source": [
    "int nilaiMHS[] = new int[10];\n",
    "double total;\n",
    "double rata;"
   ]
  },
  {
   "cell_type": "markdown",
   "metadata": {},
   "source": [
    "3. Menggunakan perulangan, buat input untuk mengisi array nilaiMHS\n",
    "![Gambar perulangan input](images/P3L3.png)\n"
   ]
  },
  {
   "cell_type": "code",
   "execution_count": 11,
   "metadata": {},
   "outputs": [
    {
     "name": "stdout",
     "output_type": "stream",
     "text": [
      "Masukkan nilai Mahasiswa ke-1 : 89\n",
      "Masukkan nilai Mahasiswa ke-2 : 99\n",
      "Masukkan nilai Mahasiswa ke-3 : 65\n",
      "Masukkan nilai Mahasiswa ke-4 : 75\n",
      "Masukkan nilai Mahasiswa ke-5 : 88\n",
      "Masukkan nilai Mahasiswa ke-6 : 46\n",
      "Masukkan nilai Mahasiswa ke-7 : 50\n",
      "Masukkan nilai Mahasiswa ke-8 : 71\n",
      "Masukkan nilai Mahasiswa ke-9 : 12\n",
      "Masukkan nilai Mahasiswa ke-10 : 100\n"
     ]
    }
   ],
   "source": [
    "for(int i = 0; i<nilaiMHS.length; i++){\n",
    "    System.out.print(\"Masukkan nilai Mahasiswa ke-\"+(i+1)+\" : \");\n",
    "    nilaiMHS[i] = sc.nextInt();\n",
    "}"
   ]
  },
  {
   "cell_type": "markdown",
   "metadata": {},
   "source": [
    "4. Menggunakan perulangan untuk menghitung jumlah keseluruhan nilai.\n",
    "![Gambar perulangan jumlah](images/P3L4.png)\n"
   ]
  },
  {
   "cell_type": "code",
   "execution_count": 12,
   "metadata": {},
   "outputs": [],
   "source": [
    "for(int i = 0; i<nilaiMHS.length; i++){\n",
    "    total+=nilaiMHS[i];\n",
    "}"
   ]
  },
  {
   "cell_type": "markdown",
   "metadata": {},
   "source": [
    "5. Kemudian hitung nilai rata-rata dengan cara nilai total dibagi jumlah elemen dari array nilaiMHS\\\n",
    "![Gambar hitung rata2](images/P3L5.png)\n"
   ]
  },
  {
   "cell_type": "code",
   "execution_count": 13,
   "metadata": {},
   "outputs": [
    {
     "name": "stdout",
     "output_type": "stream",
     "text": [
      "Rata-rata nilai mahasiswa adalah : 69.5\n"
     ]
    }
   ],
   "source": [
    "rata= total/nilaiMHS.length;\n",
    "System.out.println(\"Rata-rata nilai mahasiswa adalah : \"+rata);"
   ]
  },
  {
   "cell_type": "markdown",
   "metadata": {},
   "source": [
    "#### Pertanyaan \n",
    "1. Pada Percobaan 3 langkah ke-5. Mengapa perhitungan rata berada diluar perulangan?"
   ]
  },
  {
   "cell_type": "markdown",
   "metadata": {},
   "source": [
    "- Agara fariabel tottal datap ditampilkan"
   ]
  },
  {
   "cell_type": "markdown",
   "metadata": {},
   "source": [
    "2. Modifikasi program pada percobaan 3 sehingga bisa mengeluarkan output  seperti gambar berikut ini!\n",
    "syarat lulus nilai >70\n",
    "![Gambar pertanyaan 2](images/P3T2.png)"
   ]
  },
  {
   "cell_type": "code",
   "execution_count": 14,
   "metadata": {},
   "outputs": [
    {
     "name": "stdout",
     "output_type": "stream",
     "text": [
      "Masukkan nilai Mahasiswa ke-1:77\n",
      "Masukkan nilai Mahasiswa ke-2:95\n",
      "Masukkan nilai Mahasiswa ke-3:65\n",
      "Masukkan nilai Mahasiswa ke-4:45\n",
      "Masukkan nilai Mahasiswa ke-5:100\n",
      "Masukkan nilai Mahasiswa ke-6:99\n",
      "Masukkan nilai Mahasiswa ke-7:78\n",
      "Masukkan nilai Mahasiswa ke-8:12\n",
      "Masukkan nilai Mahasiswa ke-9:32\n",
      "Masukkan nilai Mahasiswa ke-10:66\n",
      "Rata-rata nilai mahasiswa yang lulus adalah 89.8\n",
      "Rata-rata nilai mahasiswa yang tidak lulus adalah 44.0\n"
     ]
    }
   ],
   "source": [
    "import java.util.Scanner;\n",
    "Scanner sc=new Scanner (System.in);\n",
    "int nilaiMHS[] = new int[10];\n",
    "double total1;\n",
    "double total2;\n",
    "double rata1;\n",
    "double rata2;\n",
    "int a=0;\n",
    "int b=0;\n",
    "for(int i=0; i<nilaiMHS.length; i++){\n",
    "    System.out.print(\"Masukkan nilai Mahasiswa ke-\"+(i+1)+\":\");\n",
    "    nilaiMHS[i]=sc.nextInt();\n",
    "}\n",
    "for(int i=0; i<nilaiMHS.length; i++){\n",
    "    if(nilaiMHS[i]>70){\n",
    "        total1+=nilaiMHS[i];\n",
    "        a++;\n",
    "    }\n",
    "    else if(nilaiMHS[i]<=70){\n",
    "        total2+=nilaiMHS[i];\n",
    "        b++;\n",
    "    }\n",
    "}\n",
    "rata1=total1/a;\n",
    "rata2=total2/b;\n",
    "System.out.println(\"Rata-rata nilai mahasiswa yang lulus adalah \"+rata1);\n",
    "System.out.println(\"Rata-rata nilai mahasiswa yang tidak lulus adalah \"+rata2);"
   ]
  },
  {
   "cell_type": "markdown",
   "metadata": {},
   "source": [
    "### Percobaan 4: Pencarian menggunakan Array\n",
    "Pada praktikum ini, akan dilakukan percobaan untuk mencari lokasi/indeks sebuah angka dalam array. Sesuai dengan flowchart di bawah ini:\n",
    "![Gambar flowchart searching](images/FCpercobaan4.png) "
   ]
  },
  {
   "cell_type": "markdown",
   "metadata": {},
   "source": [
    "1. Buat array arr[] bertipe integer dengan kapasitas 6 dan isi dengan nilai 6, 4, 1, 9, 7, 3, 2 dan 8. Kemudian deklarasikan variabel integer `key` untuk kata kunci pencarian dan variabel `hasil` untuk hasil indeks pencarian. Deklarasi dan inisialisasi seperti gambar berikut ini\n",
    "![Gambar deklarasi variabel](images/P4L2.png)\n"
   ]
  },
  {
   "cell_type": "code",
   "execution_count": 16,
   "metadata": {},
   "outputs": [],
   "source": [
    "int[] arr = {6, 4, 1, 9, 7, 3, 2, 8};\n",
    "int key = 3;\n",
    "int hasil = -1;"
   ]
  },
  {
   "cell_type": "markdown",
   "metadata": {},
   "source": [
    "2. Menggunakan perulangan, lakukan pencarian untuk mendapatkan nilai array yang sesuai dengan key. Bila ada yang sesuai, simpan indeksnya sebagai hasil pencarian\n",
    "![Gambar perulangan search](images/p4L3.png)\n"
   ]
  },
  {
   "cell_type": "code",
   "execution_count": 17,
   "metadata": {},
   "outputs": [],
   "source": [
    "for(int i=0; i<arr.length; i++){\n",
    "    if(key==arr[i]){\n",
    "        hasil=i;\n",
    "        break;\n",
    "    }\n",
    "}"
   ]
  },
  {
   "cell_type": "markdown",
   "metadata": {},
   "source": [
    "3. Tampilkan hasil pencarian dengan kode berikut.\n",
    "![Gambar perulangan jumlah](images/P4L4.png)\n"
   ]
  },
  {
   "cell_type": "code",
   "execution_count": 18,
   "metadata": {},
   "outputs": [
    {
     "name": "stdout",
     "output_type": "stream",
     "text": [
      "key ada di array ke-5\n"
     ]
    }
   ],
   "source": [
    "System.out.println(\"key ada di array ke-\"+hasil);"
   ]
  },
  {
   "cell_type": "markdown",
   "metadata": {},
   "source": [
    "#### Pertanyaan \n",
    "1. Pada Percobaan 4 langkah ke-2. Apa kegunaan dari statement `break`?"
   ]
  },
  {
   "cell_type": "code",
   "execution_count": null,
   "metadata": {},
   "outputs": [],
   "source": [
    "break digunakan untuk menghentikan sebuah perulangan"
   ]
  },
  {
   "cell_type": "markdown",
   "metadata": {},
   "source": [
    "2. Modifikasi program pada percobaan 4 sehingga key yang dicari adalah angka 5. Kemudian jalankan program, amati hasilnya! Jelaskan penyebab dari hasil tersebut! "
   ]
  },
  {
   "cell_type": "code",
   "execution_count": 19,
   "metadata": {},
   "outputs": [
    {
     "name": "stdout",
     "output_type": "stream",
     "text": [
      "key ada di array ke--1\n"
     ]
    }
   ],
   "source": [
    "int[] arr = {6, 4, 1, 9, 7, 3, 2, 8};\n",
    "int key = 5;\n",
    "int hasil = -1;\n",
    "for(int i=0; i<arr.length; i++){\n",
    "    if(key==arr[i]){\n",
    "        hasil=i;\n",
    "        break;\n",
    "    }\n",
    "}\n",
    "System.out.println(\"key ada di array ke-\"+hasil);"
   ]
  },
  {
   "cell_type": "markdown",
   "metadata": {},
   "source": [
    "### Percobaan 5: Pengurutan bilangan menggunakan Array\n",
    "Pada praktikum ini, akan dilakukan percobaan untuk mengurutkan angka dalam array. Sesuai dengan flowchart di bawah ini:\n",
    "![Gambar flowchart sorting](images/FCpercobaan5.png)\n",
    "1.Buat array arr[] bertipe integer dengan kapasitas 8 dan isi dengan nilai 16, 4, 10, 90, 27, 3, 12 dan 28. Kemudian deklarasikan variabel integer `temp` untuk media penukaran nilai pada variabel. Deklarasi dan inisialisasi seperti gambar berikut ini\n",
    "![Gambar deklarasi dan inisialisasi](images/P5L1.png)"
   ]
  },
  {
   "cell_type": "code",
   "execution_count": 20,
   "metadata": {},
   "outputs": [],
   "source": [
    "int[] arr = {16, 4, 10, 90, 27, 3, 12, 28};\n",
    "int temp = 0;"
   ]
  },
  {
   "cell_type": "code",
   "execution_count": 21,
   "metadata": {},
   "outputs": [],
   "source": [
    "for(int i = 0; i < arr.length; i++){\n",
    "    for(int j = 1; j < (arr.length-i); j++){\n",
    "        if(arr[j-1] > arr[j]){\n",
    "            temp = arr[j-1];\n",
    "            arr[j-1] = arr[j];\n",
    "            arr[j] = temp;\n",
    "        }\n",
    "    }\n",
    "}"
   ]
  },
  {
   "cell_type": "markdown",
   "metadata": {},
   "source": [
    "2. Menggunakan perulangan, lakukan pengurutan bilangan dengan menukar posisi indeks tersebut dengan indeks berikutnya. Perulangan dilakukan untuk menukar posisi berulang kali. \n",
    "![Gambar sorting](images/P5L2.png)"
   ]
  },
  {
   "cell_type": "markdown",
   "metadata": {},
   "source": [
    "3. Tampilkan hasil pengurutan dengan menggunakan perulangan\n",
    "![Gambar print](images/P5L3.png)"
   ]
  },
  {
   "cell_type": "code",
   "execution_count": 22,
   "metadata": {},
   "outputs": [
    {
     "name": "stdout",
     "output_type": "stream",
     "text": [
      "Hasil pengurutan: \n",
      "3\n",
      "4\n",
      "10\n",
      "12\n",
      "16\n",
      "27\n",
      "28\n",
      "90\n"
     ]
    }
   ],
   "source": [
    "System.out.println(\"Hasil pengurutan: \");\n",
    "for(int i = 0; i < arr.length; i++)\n",
    "    System.out.println(arr[i]);"
   ]
  },
  {
   "cell_type": "markdown",
   "metadata": {},
   "source": [
    "## Tugas\n",
    "### Soal 1\n",
    "Buatlah program yang **sesuai** dengan alur _flowchart_ di bawah ini\n",
    "![Soal 1](images/soal1.png)\n",
    "\n",
    "Flowchart diatas menggambarkan alur program yang membaca 10 masukan pengguna berupa integer dan menyimpannya. Kemudian angka ganjil dan genap disimpan kembali ke dalam variabel lain yang terpisah"
   ]
  },
  {
   "cell_type": "code",
   "execution_count": 54,
   "metadata": {},
   "outputs": [
    {
     "name": "stdout",
     "output_type": "stream",
     "text": [
      "Masukkan angka :45\n",
      "Masukkan angka :66\n",
      "Masukkan angka :89\n",
      "Masukkan angka :42\n",
      "Masukkan angka :5\n",
      "Masukkan angka :12\n",
      "Masukkan angka :65\n",
      "Masukkan angka :44\n",
      "Masukkan angka :12\n",
      "Masukkan angka :67\n",
      "Bilangan Genap :66\n",
      "Bilangan Genap :42\n",
      "Bilangan Genap :12\n",
      "Bilangan Genap :44\n",
      "Bilangan Genap :12\n",
      "Bilangan Ganjil :45\n",
      "Bilangan Ganjil :89\n",
      "Bilangan Ganjil :5\n",
      "Bilangan Ganjil :65\n",
      "Bilangan Ganjil :67\n"
     ]
    }
   ],
   "source": [
    "import java.util.Scanner;\n",
    "Scanner sc = new Scanner(System.in);\n",
    "\n",
    "int checkNum[] = new int[10];\n",
    "int oddNum[] = new int[10];\n",
    "int evenNum[] = new int[10];\n",
    "int cEven, cOdd = 0;\n",
    "\n",
    "for(int i=0; i<checkNum.length; i++){\n",
    "    System.out.print(\"Masukkan angka :\");\n",
    "    checkNum[i] = sc.nextInt();\n",
    "}\n",
    "\n",
    "for(int j=0; j<checkNum.length; j++){\n",
    "    if(checkNum[j]%2==0){\n",
    "        evenNum[cEven] = checkNum[j];\n",
    "        cEven++;\n",
    "    }else{\n",
    "        oddNum[cOdd] = checkNum[j];\n",
    "        cOdd++;\n",
    "    }\n",
    "}\n",
    "\n",
    "for(int i=0; i<cEven; i++){\n",
    "    System.out.printf(\"Bilangan Genap :%d\\n\",evenNum[i]);\n",
    "}\n",
    "for(int i=0; i<cOdd; i++){\n",
    "    System.out.printf(\"Bilangan Ganjil :%d\\n\",oddNum[i]);\n",
    "}"
   ]
  },
  {
   "cell_type": "markdown",
   "metadata": {},
   "source": [
    "### Soal 2\n",
    "Buatlah program yang terdapat array dengan jumlah elemen 5, buatlah input untuk mengisi elemen array tersebut, kemudian tampilkan isi array tersebut dengan urutan terbalik. Seperti ilustrasi gambar dibawah ini.\n",
    "![Soal 2](images/T2.png)"
   ]
  },
  {
   "cell_type": "code",
   "execution_count": 38,
   "metadata": {},
   "outputs": [
    {
     "name": "stdout",
     "output_type": "stream",
     "text": [
      "IndexValue\n",
      "5\n",
      "2\n",
      "7\n",
      "9\n",
      "6\n",
      "=========\n",
      "6\n",
      "9\n",
      "7\n",
      "2\n",
      "5"
     ]
    }
   ],
   "source": [
    "int array[] = {5, 2, 7, 9, 6};\n",
    "System.out.printf(\"%s%5s\\n\",\"Index\",\"Value\");\n",
    "\n",
    "for (int i=0; i<array.length;i++){\n",
    "    System.out.printf(\"%d\\n\",array[i]);\n",
    "}\n",
    "System.out.print(\"=========\");\n",
    "for (int i=array.length-1; i>=0;i--){\n",
    "    System.out.printf(\"\\n%d\",array[i]);\n",
    "}"
   ]
  },
  {
   "cell_type": "markdown",
   "metadata": {},
   "source": [
    "### Soal 3\n",
    "Buatlah program yang menerima input jumlah elemen array, inputkan isi arraynya, kemudian tampilkan bilangan terbesar dari isi elemen arraynya. Contoh hasil program:\n",
    "![Soal 3](images/t3.png)"
   ]
  },
  {
   "cell_type": "code",
   "execution_count": 52,
   "metadata": {},
   "outputs": [
    {
     "name": "stdout",
     "output_type": "stream",
     "text": [
      "masukkan isi arry : \n",
      "4\n",
      "isi arry : 12\n",
      "isi arry : 5\n",
      "isi arry : 100\n",
      "isi arry : 56\n",
      "Bilangan terbesar adalah : 100"
     ]
    }
   ],
   "source": [
    "Scanner input = new Scanner (System.in);\n",
    "int Bilanganterbesar=0;\n",
    "System.out.println(\"masukkan isi arry : \");\n",
    "int[] array = new int[input.nextInt()];\n",
    "for (int i=0; i<array.length;i++)\n",
    "{\n",
    "    System.out.print(\"isi arry : \");\n",
    "    array[i]=input.nextInt();\n",
    "}\n",
    "\n",
    "for (int i=0; i<array.length;i++)\n",
    "{\n",
    "//     System.out.printf(\"array %2d dengan elemen %5d\\n\",i,array[i]);\n",
    "    if (Bilanganterbesar<array[i])Bilanganterbesar= array[i];\n",
    "}\n",
    "System.out.print(\"Bilangan terbesar adalah : \"+Bilanganterbesar);"
   ]
  }
 ],
 "metadata": {
  "kernelspec": {
   "display_name": "Java",
   "language": "java",
   "name": "java"
  },
  "language_info": {
   "codemirror_mode": "java",
   "file_extension": ".jshell",
   "mimetype": "text/x-java-source",
   "name": "Java",
   "pygments_lexer": "java",
   "version": "18-ea+20-1248"
  }
 },
 "nbformat": 4,
 "nbformat_minor": 1
}
