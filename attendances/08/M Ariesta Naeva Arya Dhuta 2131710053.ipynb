{
 "cells": [
  {
   "cell_type": "markdown",
   "metadata": {},
   "source": [
    "Identitas Diri\n",
    "\n",
    "Nim : [Isikan NIM Anda]\n",
    "\n",
    "Nama: [Isikan Nama Anda]"
   ]
  },
  {
   "cell_type": "markdown",
   "metadata": {
    "collapsed": true,
    "pycharm": {
     "name": "#%% md\n"
    }
   },
   "source": [
    "### Soal UTS 2021-2022\n",
    "Waktu: 90 menit\n",
    "\n",
    "Silakan mengerjakan soal di bawah ini, NIM ganjil untuk mengerjakan nomor.1 sedangkan nomor.2 untuk NIM genap. Tuliskan\n",
    "kode program pada cell yang telah disediakan dan jangan lupa untuk menjalankan hasil kode program yang telah dibuat."
   ]
  },
  {
   "cell_type": "markdown",
   "metadata": {
    "pycharm": {
     "name": "#%% md\n"
    }
   },
   "source": [
    "1. Buatlah sebuah program untuk menghitung biaya yang harus dikeluarkan oleh pembeli dalam sebuah toko dengan spesifikasi sebagai berikut\n",
    "    + Jumlah barang yang akan diinputkan belum diketahui jumlahnya\n",
    "    + Terdapat 3 buah inputan, jenis barang(minuman,makanan), nama, dan harga\n",
    "    + Ketika jumlah minuman adalah 3 buah, maka akan mendapatkan potongan harga sebesar 5% dari harga minuman.\n",
    "    + Ketika diakhir belanja seorang pembeli ditanya oleh kasir, apakah mau beli kantong plastic atau tidak. Jika mau, maka harus membayar Rp.200.\n",
    "    + Ketika total pembelian lebih besar sama dengan 1 juta, maka harus dikenai PPN 7%."
   ]
  },
  {
   "cell_type": "code",
   "execution_count": 8,
   "metadata": {
    "pycharm": {
     "name": "#%%\n"
    }
   },
   "outputs": [
    {
     "name": "stdout",
     "output_type": "stream",
     "text": [
      "Makanan / Minuman ? \n",
      "Minuman\n",
      "Masukkan Nama Minuman :\n",
      "egoblio\n",
      "Masukkan Jumlah : \n",
      "5\n",
      "Masukkan Harga : \n",
      "6000\n",
      "--------------------------------------- \n",
      "              Struk Minuman     : \n",
      "---------------------------------------\n",
      "Nama Barang    |     Harga     |    Jumlah    |    Total \n",
      "egoblio\t6000.0\t\t5.0\t\t30000.0\n",
      "Total Bayar : 29700.0\n",
      "Apakah Anda mau beli kantong plastik? (0=tidak, 1=ya)\n",
      "ya\n",
      "Total belanja yang perlu Anda bayar adalah 30000.0"
     ]
    }
   ],
   "source": [
    "import java.util.Scanner;\n",
    "Scanner input = new Scanner(System.in);\n",
    "String namaMinuman,namaMakanan,jenis,plastik;\n",
    "double jumlahB,hargaMinuman,hargaMakanan,jumlahMinuman,jumlahMakanan,totalMinuman,total;\n",
    "System.out.println(\"Makanan / Minuman ? \");\n",
    "jenis = input.nextLine();\n",
    "if(jenis.equalsIgnoreCase(\"Minuman\")){\n",
    "    System.out.println(\"Masukkan Nama Minuman :\");\n",
    "    namaMinuman = input.nextLine();\n",
    "    System.out.println(\"Masukkan Jumlah : \");\n",
    "    jumlahMinuman = input.nextDouble();\n",
    "    System.out.println(\"Masukkan Harga : \");\n",
    "    hargaMinuman = input.nextDouble();\n",
    "    totalMinuman = hargaMinuman*jumlahMinuman;\n",
    "    System.out.println(\"--------------------------------------- \");\n",
    "    System.out.println(\"              Struk Minuman     : \");\n",
    "    System.out.println(\"---------------------------------------\");\n",
    "    System.out.println(\"Nama Barang    |     Harga     |    Jumlah    |    Total \");\n",
    "    System.out.println(String.format(\"%s\\t%s\\t\\t%s\\t\\t%s\",namaMinuman,hargaMinuman,jumlahMinuman,+totalMinuman ));\n",
    "    double diskon= 0;\n",
    "    \n",
    "    if(jumlahMinuman >= 3){\n",
    "        diskon= hargaMinuman * 5/100  ;\n",
    "        System.out.println(\"Total Bayar : \"+(totalMinuman-diskon));\n",
    "    } else \n",
    "        System.out.println(\"tidak dapat diskon kamu\");\n",
    "    \n",
    "    System.out.println(\"Apakah Anda mau beli kantong plastik? (0=tidak, 1=ya)\");\n",
    "input.nextLine();\n",
    "plastik = input.nextLine();\n",
    "if(jenis.equalsIgnoreCase(\"Ya\")){\n",
    "    total = totalMinuman+ 200;\n",
    "} else {\n",
    "    total = totalMinuman + 0;\n",
    "}\n",
    "\n",
    "System.out.print(\"Total belanja yang perlu Anda bayar adalah \" +total);\n",
    "    \n",
    "    \n",
    "} else if(jenis.equalsIgnoreCase(\"Makanan\")){\n",
    "    System.out.println(\"Masukkan Nama Makanan :\");\n",
    "    namaMakanan = input.nextLine();\n",
    "    System.out.println(\"Masukkan Jumlah : \");\n",
    "    jumlahMakanan = input.nextDouble();\n",
    "    System.out.println(\"Masukkan Harga : \");\n",
    "    hargaMakanan = input.nextDouble(); \n",
    "    System.out.println(\"--------------------------------------- \");\n",
    "    System.out.println(\"              Struk Makanan     : \");\n",
    "    System.out.println(\"---------------------------------------\");\n",
    "    System.out.println(\"Nama Barang    |     Harga     |    Jumlah    |    Total \");\n",
    "    System.out.println(String.format(\"%s\\t%s\\t\\t%s\\t\\t%s\",namaMakanan,hargaMakanan,jumlahMakanan,jumlahMakanan*hargaMakanan ));\n",
    "        System.out.println(\"Apakah Anda mau beli kantong plastik? (0=tidak, 1=ya)\");\n",
    "input.nextLine();\n",
    "plastik = input.nextLine();\n",
    "if(jenis.equalsIgnoreCase(\"Ya\")){\n",
    "    total = totalMinuman + 200;\n",
    "} else {\n",
    "    total = totalMinuman + 0;\n",
    "}\n",
    "\n",
    "System.out.print(\"Total belanja yang perlu Anda bayar adalah \" +total);\n",
    "}\n",
    "\n"
   ]
  },
  {
   "cell_type": "markdown",
   "metadata": {
    "pycharm": {
     "name": "#%% md\n"
    }
   },
   "source": [
    "2.\tSeorang yang akan membayar pajak perlu dihitung semua harta kekayaan atau penghasilan. Kriteria yang dapat dihitung adalah sebagai berikut\n",
    "    + Sebelum dihitung, wajib pajak ditanya terlebih dahulu apakah memiliki usaha atau tidak. Ketika memiliki usaha, maka perlu diinputkan penghasilan dalam 1 tahun berapa? Kemudian dikenai pajak sebesar 15%\n",
    "    + Terdapat inputan harta kekayaan yang perlu dinputkan, dengan setiap wajib pajak memiliki harta kekayaan yang berbeda-beda.\n",
    "    + Harta kekayaan berupa, benda bergerak(kendaraan,dll) ataupun kekayaan yang tidak bergerak(perhiasan, tanah, surat berharga, dll). Silakan diinputkan nama kendaraan ataupun perhiasaannya beserta nilai jual saat ini.\n",
    "    + Jika wajib pajak sudah berkeluarga, maka perlu ditanyakan tingkat pendidikan(SD,SMP,SMA,KULIAH). Ketika jumlah yang kuliah anaknya 1 dan 1 SMA dan total harta kekayaan lebih dari sama dengan 50 juta maka akan dipotong semua pajaknya 10%. Sedangkan tidak ada yang SMA ataupun KULIAH dan total harta kekayaan kurang dari 50 juta maka akan dipotong 5%."
   ]
  },
  {
   "cell_type": "code",
   "execution_count": 2,
   "metadata": {
    "pycharm": {
     "name": "#%%\n"
    }
   },
   "outputs": [],
   "source": [
    "// tulis jawaban di sini\n"
   ]
  },
  {
   "cell_type": "markdown",
   "metadata": {
    "pycharm": {
     "name": "#%% md\n"
    }
   },
   "source": [
    "> **Kerjakan secara individu, segala bentuk yang mengarah kepada kecurangan akan mendapatkan nilai 0.**\n",
    ">\n",
    "> Selamat mengerjakan :)\n"
   ]
  }
 ],
 "metadata": {
  "kernelspec": {
   "display_name": "Java",
   "language": "java",
   "name": "java"
  },
  "language_info": {
   "codemirror_mode": "java",
   "file_extension": ".jshell",
   "mimetype": "text/x-java-source",
   "name": "Java",
   "pygments_lexer": "java",
   "version": "18-ea+20-1248"
  }
 },
 "nbformat": 4,
 "nbformat_minor": 2
}
